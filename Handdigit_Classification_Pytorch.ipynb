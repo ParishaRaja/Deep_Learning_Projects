{
  "cells": [
    {
      "cell_type": "markdown",
      "metadata": {
        "id": "view-in-github",
        "colab_type": "text"
      },
      "source": [
        "<a href=\"https://colab.research.google.com/github/ParishaRaja/Deep_Learning_Projects/blob/main/Handdigit_Classification_Pytorch.ipynb\" target=\"_parent\"><img src=\"https://colab.research.google.com/assets/colab-badge.svg\" alt=\"Open In Colab\"/></a>"
      ]
    },
    {
      "cell_type": "markdown",
      "source": [
        "# Name : Raja Parisha Viralbhai\n",
        "# Data Science (semester : 7)"
      ],
      "metadata": {
        "id": "eFoEr8zlHPy-"
      }
    },
    {
      "cell_type": "code",
      "execution_count": null,
      "metadata": {
        "id": "YspgOqmB1UnK"
      },
      "outputs": [],
      "source": [
        "import torch\n",
        "import torch.nn as nn\n",
        "import torch.optim as optim\n",
        "import torchvision\n",
        "import torchvision.transforms as transforms\n",
        "import numpy as np\n",
        "import matplotlib.pyplot as plt\n",
        "import seaborn as sns\n",
        "from sklearn.metrics import confusion_matrix"
      ]
    },
    {
      "cell_type": "code",
      "execution_count": null,
      "metadata": {
        "id": "0GEtQOAT1gZN"
      },
      "outputs": [],
      "source": [
        "# Define a simple neural network architecture\n",
        "class Net(nn.Module):\n",
        "    def __init__(self):\n",
        "        super(Net, self).__init__()\n",
        "        self.fc1 = nn.Linear(784, 20)\n",
        "        self.fc2 = nn.Linear(20, 15)\n",
        "        self.fc3 = nn.Linear(15, 10)\n",
        "\n",
        "    def forward(self, x):\n",
        "        x = torch.relu(self.fc1(x))\n",
        "        x = torch.relu(self.fc2(x))\n",
        "        x = self.fc3(x)\n",
        "        return x"
      ]
    },
    {
      "cell_type": "code",
      "execution_count": null,
      "metadata": {
        "colab": {
          "base_uri": "https://localhost:8080/"
        },
        "id": "5FAJ-PFR1ipN",
        "outputId": "ea054574-6a06-440d-923c-0ce60eba7db1"
      },
      "outputs": [
        {
          "name": "stdout",
          "output_type": "stream",
          "text": [
            "Downloading http://yann.lecun.com/exdb/mnist/train-images-idx3-ubyte.gz\n",
            "Downloading http://yann.lecun.com/exdb/mnist/train-images-idx3-ubyte.gz to ./data/MNIST/raw/train-images-idx3-ubyte.gz\n"
          ]
        },
        {
          "name": "stderr",
          "output_type": "stream",
          "text": [
            "100%|██████████| 9912422/9912422 [00:00<00:00, 221065088.77it/s]"
          ]
        },
        {
          "name": "stdout",
          "output_type": "stream",
          "text": [
            "Extracting ./data/MNIST/raw/train-images-idx3-ubyte.gz to ./data/MNIST/raw\n"
          ]
        },
        {
          "name": "stderr",
          "output_type": "stream",
          "text": [
            "\n"
          ]
        },
        {
          "name": "stdout",
          "output_type": "stream",
          "text": [
            "\n",
            "Downloading http://yann.lecun.com/exdb/mnist/train-labels-idx1-ubyte.gz\n",
            "Downloading http://yann.lecun.com/exdb/mnist/train-labels-idx1-ubyte.gz to ./data/MNIST/raw/train-labels-idx1-ubyte.gz\n"
          ]
        },
        {
          "name": "stderr",
          "output_type": "stream",
          "text": [
            "100%|██████████| 28881/28881 [00:00<00:00, 41132663.44it/s]"
          ]
        },
        {
          "name": "stdout",
          "output_type": "stream",
          "text": [
            "Extracting ./data/MNIST/raw/train-labels-idx1-ubyte.gz to ./data/MNIST/raw\n",
            "\n",
            "Downloading http://yann.lecun.com/exdb/mnist/t10k-images-idx3-ubyte.gz\n"
          ]
        },
        {
          "name": "stderr",
          "output_type": "stream",
          "text": [
            "\n"
          ]
        },
        {
          "name": "stdout",
          "output_type": "stream",
          "text": [
            "Downloading http://yann.lecun.com/exdb/mnist/t10k-images-idx3-ubyte.gz to ./data/MNIST/raw/t10k-images-idx3-ubyte.gz\n"
          ]
        },
        {
          "name": "stderr",
          "output_type": "stream",
          "text": [
            "100%|██████████| 1648877/1648877 [00:00<00:00, 70380007.09it/s]\n"
          ]
        },
        {
          "name": "stdout",
          "output_type": "stream",
          "text": [
            "Extracting ./data/MNIST/raw/t10k-images-idx3-ubyte.gz to ./data/MNIST/raw\n",
            "\n",
            "Downloading http://yann.lecun.com/exdb/mnist/t10k-labels-idx1-ubyte.gz\n",
            "Downloading http://yann.lecun.com/exdb/mnist/t10k-labels-idx1-ubyte.gz to ./data/MNIST/raw/t10k-labels-idx1-ubyte.gz\n"
          ]
        },
        {
          "name": "stderr",
          "output_type": "stream",
          "text": [
            "100%|██████████| 4542/4542 [00:00<00:00, 909897.73it/s]"
          ]
        },
        {
          "name": "stdout",
          "output_type": "stream",
          "text": [
            "Extracting ./data/MNIST/raw/t10k-labels-idx1-ubyte.gz to ./data/MNIST/raw\n",
            "\n"
          ]
        },
        {
          "name": "stderr",
          "output_type": "stream",
          "text": [
            "\n"
          ]
        }
      ],
      "source": [
        "# Load the MNIST dataset and apply transformations\n",
        "transform = transforms.Compose([transforms.ToTensor(), transforms.Normalize((0.5,), (0.5,))])\n",
        "trainset = torchvision.datasets.MNIST(root='./data', train=True, download=True, transform=transform)\n",
        "trainloader = torch.utils.data.DataLoader(trainset, batch_size=32, shuffle=True)\n",
        "\n",
        "testset = torchvision.datasets.MNIST(root='./data', train=False, download=True, transform=transform)\n",
        "testloader = torch.utils.data.DataLoader(testset, batch_size=32, shuffle=False)\n"
      ]
    },
    {
      "cell_type": "code",
      "execution_count": null,
      "metadata": {
        "id": "V_O15x5p1isv"
      },
      "outputs": [],
      "source": [
        "# Initialize the network, loss function, and optimizer\n",
        "net = Net()\n",
        "criterion = nn.CrossEntropyLoss()\n",
        "optimizer = optim.Adam(net.parameters(), lr=0.001)\n"
      ]
    },
    {
      "cell_type": "code",
      "execution_count": null,
      "metadata": {
        "colab": {
          "base_uri": "https://localhost:8080/"
        },
        "id": "ULNJQCD21zt5",
        "outputId": "37ea9c1a-4399-4ef0-9e69-b6635e090fa7"
      },
      "outputs": [
        {
          "output_type": "stream",
          "name": "stdout",
          "text": [
            "Epoch 1, Loss: 0.3827482771416505\n",
            "Epoch 2, Loss: 0.36745474154949187\n",
            "Epoch 3, Loss: 0.3545322495897611\n",
            "Epoch 4, Loss: 0.34801730860273045\n",
            "Epoch 5, Loss: 0.34232550036708514\n",
            "Epoch 6, Loss: 0.336364124896129\n",
            "Epoch 7, Loss: 0.33033794887065887\n",
            "Epoch 8, Loss: 0.3276530142058929\n",
            "Epoch 9, Loss: 0.32262267466584843\n",
            "Epoch 10, Loss: 0.32176760486165684\n",
            "Epoch 11, Loss: 0.31650008604923885\n",
            "Epoch 12, Loss: 0.3136925379812717\n",
            "Epoch 13, Loss: 0.3104145516594251\n",
            "Epoch 14, Loss: 0.30840427128076553\n",
            "Epoch 15, Loss: 0.3060502740869919\n",
            "Epoch 16, Loss: 0.3035499785780907\n",
            "Epoch 17, Loss: 0.3020781704246998\n",
            "Epoch 18, Loss: 0.30185084938307605\n",
            "Epoch 19, Loss: 0.29866217698951564\n",
            "Epoch 20, Loss: 0.29817815843224527\n",
            "Epoch 21, Loss: 0.2967836026052634\n",
            "Epoch 22, Loss: 0.2958010527471701\n",
            "Epoch 23, Loss: 0.29533725331326327\n",
            "Epoch 24, Loss: 0.29309583669801553\n",
            "Epoch 25, Loss: 0.29279425776600837\n",
            "Epoch 26, Loss: 0.2916561033387979\n",
            "Epoch 27, Loss: 0.29091978848377864\n",
            "Epoch 28, Loss: 0.2896301805446545\n",
            "Epoch 29, Loss: 0.289654293769598\n",
            "Epoch 30, Loss: 0.2894585719555616\n",
            "Epoch 31, Loss: 0.2895571893294652\n",
            "Epoch 32, Loss: 0.28738008976479373\n",
            "Epoch 33, Loss: 0.2879836355398099\n",
            "Epoch 34, Loss: 0.2862602370252212\n",
            "Epoch 35, Loss: 0.28472719683547815\n",
            "Epoch 36, Loss: 0.2880518836716811\n",
            "Epoch 37, Loss: 0.2847254613687595\n",
            "Epoch 38, Loss: 0.2849673426568508\n",
            "Epoch 39, Loss: 0.28449429124395054\n",
            "Epoch 40, Loss: 0.28452206836640836\n",
            "Epoch 41, Loss: 0.2839115201761325\n",
            "Epoch 42, Loss: 0.2826842327415943\n",
            "Epoch 43, Loss: 0.28320373993217945\n",
            "Epoch 44, Loss: 0.2822590165168047\n",
            "Epoch 45, Loss: 0.2827670293052991\n",
            "Epoch 46, Loss: 0.2819283732692401\n",
            "Epoch 47, Loss: 0.2797635712792476\n",
            "Epoch 48, Loss: 0.28096913540959356\n",
            "Epoch 49, Loss: 0.2814562902708848\n",
            "Epoch 50, Loss: 0.2797882940411568\n",
            "Epoch 51, Loss: 0.2797365025381247\n",
            "Epoch 52, Loss: 0.2793330223619938\n",
            "Epoch 53, Loss: 0.2799732858806849\n",
            "Epoch 54, Loss: 0.2777365262240171\n",
            "Epoch 55, Loss: 0.278504223493735\n",
            "Epoch 56, Loss: 0.2783470550119877\n",
            "Epoch 57, Loss: 0.2781655274868011\n",
            "Epoch 58, Loss: 0.2765751604954402\n",
            "Epoch 59, Loss: 0.2772105766326189\n",
            "Epoch 60, Loss: 0.2762484910339117\n",
            "Epoch 61, Loss: 0.2769683155486981\n",
            "Epoch 62, Loss: 0.2761833966255188\n",
            "Epoch 63, Loss: 0.2759524940222502\n",
            "Epoch 64, Loss: 0.2763780274093151\n",
            "Epoch 65, Loss: 0.275321795569857\n",
            "Epoch 66, Loss: 0.27440414575437705\n",
            "Epoch 67, Loss: 0.2736299327125152\n",
            "Epoch 68, Loss: 0.27481119128465653\n",
            "Epoch 69, Loss: 0.27377403323948385\n",
            "Epoch 70, Loss: 0.2750537834415833\n",
            "Epoch 71, Loss: 0.27437499515910946\n",
            "Epoch 72, Loss: 0.27421014649868014\n",
            "Epoch 73, Loss: 0.27221996529102327\n",
            "Epoch 74, Loss: 0.27247451656659444\n",
            "Epoch 75, Loss: 0.27296348909437657\n",
            "Epoch 76, Loss: 0.2718516536305348\n",
            "Epoch 77, Loss: 0.27287379855116206\n",
            "Epoch 78, Loss: 0.27258868388632934\n",
            "Epoch 79, Loss: 0.2717693699369828\n",
            "Epoch 80, Loss: 0.2727272297749917\n",
            "Finished Training\n"
          ]
        }
      ],
      "source": [
        "# Training the network\n",
        "for epoch in range(80):\n",
        "    running_loss = 0.0\n",
        "    for i, data in enumerate(trainloader, 0):\n",
        "        inputs, labels = data\n",
        "        inputs = inputs.view(-1, 28*28)\n",
        "\n",
        "        optimizer.zero_grad()\n",
        "        outputs = net(inputs)\n",
        "        loss = criterion(outputs, labels)\n",
        "        loss.backward()\n",
        "        optimizer.step()\n",
        "\n",
        "        running_loss += loss.item()\n",
        "\n",
        "    print(f'Epoch {epoch + 1}, Loss: {running_loss / len(trainloader)}')\n",
        "\n",
        "print('Finished Training')"
      ]
    },
    {
      "cell_type": "code",
      "execution_count": null,
      "metadata": {
        "id": "1aGhm0k710BB",
        "colab": {
          "base_uri": "https://localhost:8080/"
        },
        "outputId": "546dcf7c-0364-4389-9c93-f7f2eb1381bd"
      },
      "outputs": [
        {
          "output_type": "stream",
          "name": "stdout",
          "text": [
            "Accuracy of the network on the 10000 test images: 90.73%\n"
          ]
        }
      ],
      "source": [
        "#Evaluation on the test set\n",
        "correct = 0\n",
        "total = 0\n",
        "y_pred = []\n",
        "\n",
        "with torch.no_grad():\n",
        "    for data in testloader:\n",
        "        images, labels = data\n",
        "        images = images.view(-1, 28*28)\n",
        "        outputs = net(images)\n",
        "        predicted = torch.max(outputs.data, 1)\n",
        "        y_pred.extend(predicted.tolist())\n",
        "        total += labels.size(0)\n",
        "        correct += (predicted == labels).sum().item()\n",
        "\n",
        "print(f'Accuracy of the network on the 10000 test images: {100 * correct / total}%')\n"
      ]
    },
    {
      "cell_type": "code",
      "source": [
        "'''\n",
        "correct = 0\n",
        "total = 0\n",
        "y_pred = []\n",
        "\n",
        "with torch.no_grad():\n",
        "    for data in testloader:\n",
        "        images, labels = data\n",
        "        images = images.view(-1, 28*28)\n",
        "        outputs = net(images)\n",
        "        predicted = torch.max(outputs.data, 1)[1]  # Extract the tensor indices\n",
        "        y_pred.extend(predicted)\n",
        "        total += labels.size(0)\n",
        "        correct += (predicted == labels).sum().item()\n",
        "\n",
        "print(f'Accuracy of the network on the test images: {100 * correct / total:.2f}%')\n",
        "'''"
      ],
      "metadata": {
        "id": "mcKbTEe4GDZK"
      },
      "execution_count": null,
      "outputs": []
    },
    {
      "cell_type": "code",
      "execution_count": null,
      "metadata": {
        "id": "HFSt4uGq1-cc",
        "colab": {
          "base_uri": "https://localhost:8080/",
          "height": 718
        },
        "outputId": "ff80a966-aded-4141-ab1b-0f9ef2baff54"
      },
      "outputs": [
        {
          "output_type": "display_data",
          "data": {
            "text/plain": [
              "<Figure size 1000x800 with 2 Axes>"
            ],
            "image/png": "[encoded data removed]"
          },
          "metadata": {}
        }
      ],
      "source": [
        "# Creating and plotting the confusion matrix\n",
        "conf_matrix = confusion_matrix(testset.targets, y_pred)\n",
        "plt.figure(figsize=(10, 8))\n",
        "sns.heatmap(conf_matrix, annot=True, fmt=\"d\", cmap=\"Blues\")\n",
        "plt.xlabel('Predicted labels')\n",
        "plt.ylabel('True labels')\n",
        "plt.title('Confusion Matrix')\n",
        "plt.show()"
      ]
    }
  ],
  "metadata": {
    "colab": {
      "provenance": [],
      "authorship_tag": "ABX9TyMikiedHKwLEF32DNYHNBo4",
      "include_colab_link": true
    },
    "kernelspec": {
      "display_name": "Python 3",
      "name": "python3"
    },
    "language_info": {
      "name": "python"
    }
  },
  "nbformat": 4,
  "nbformat_minor": 0
}