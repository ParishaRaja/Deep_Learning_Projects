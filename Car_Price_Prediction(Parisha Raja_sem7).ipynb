{
 "cells": [
  {
   "cell_type": "markdown",
   "id": "87b141c7",
   "metadata": {},
   "source": [
    "# Name: Parisha Raja\n",
    "# Sem 7"
   ]
  },
  {
   "cell_type": "code",
   "execution_count": 1,
   "id": "06631146",
   "metadata": {},
   "outputs": [],
   "source": [
    "# Importing libraries\n",
    "import tensorflow as tf\n",
    "from tensorflow.keras.models import Sequential\n",
    "from tensorflow.keras.layers import Dense\n",
    "from tensorflow.keras.callbacks import EarlyStopping\n",
    "from sklearn.preprocessing import StandardScaler\n",
    "from sklearn.metrics import confusion_matrix\n",
    "import numpy as np\n",
    "import pandas as pd\n",
    "import seaborn as sns\n",
    "import matplotlib.pyplot as plt"
   ]
  },
  {
   "cell_type": "code",
   "execution_count": 2,
   "id": "1e31ba1a",
   "metadata": {},
   "outputs": [],
   "source": [
    "#Loading data\n",
    "data = pd.read_csv(\"car-data.csv\")"
   ]
  },
  {
   "cell_type": "code",
   "execution_count": 3,
   "id": "62fd4eb8",
   "metadata": {},
   "outputs": [
    {
     "data": {
      "text/html": [
       "<div>\n",
       "<style scoped>\n",
       "    .dataframe tbody tr th:only-of-type {\n",
       "        vertical-align: middle;\n",
       "    }\n",
       "\n",
       "    .dataframe tbody tr th {\n",
       "        vertical-align: top;\n",
       "    }\n",
       "\n",
       "    .dataframe thead th {\n",
       "        text-align: right;\n",
       "    }\n",
       "</style>\n",
       "<table border=\"1\" class=\"dataframe\">\n",
       "  <thead>\n",
       "    <tr style=\"text-align: right;\">\n",
       "      <th></th>\n",
       "      <th>Unnamed: 0</th>\n",
       "      <th>Name</th>\n",
       "      <th>Location</th>\n",
       "      <th>Year</th>\n",
       "      <th>Kilometers_Driven</th>\n",
       "      <th>Fuel_Type</th>\n",
       "      <th>Transmission</th>\n",
       "      <th>Owner_Type</th>\n",
       "      <th>Mileage</th>\n",
       "      <th>Engine</th>\n",
       "      <th>Power</th>\n",
       "      <th>Seats</th>\n",
       "      <th>New_Price</th>\n",
       "      <th>Price</th>\n",
       "    </tr>\n",
       "  </thead>\n",
       "  <tbody>\n",
       "    <tr>\n",
       "      <th>0</th>\n",
       "      <td>0</td>\n",
       "      <td>Maruti Wagon R LXI CNG</td>\n",
       "      <td>Mumbai</td>\n",
       "      <td>2010</td>\n",
       "      <td>72000</td>\n",
       "      <td>CNG</td>\n",
       "      <td>Manual</td>\n",
       "      <td>First</td>\n",
       "      <td>26.6 km/kg</td>\n",
       "      <td>998 CC</td>\n",
       "      <td>58.16 bhp</td>\n",
       "      <td>5.0</td>\n",
       "      <td>NaN</td>\n",
       "      <td>1.75</td>\n",
       "    </tr>\n",
       "    <tr>\n",
       "      <th>1</th>\n",
       "      <td>1</td>\n",
       "      <td>Hyundai Creta 1.6 CRDi SX Option</td>\n",
       "      <td>Pune</td>\n",
       "      <td>2015</td>\n",
       "      <td>41000</td>\n",
       "      <td>Diesel</td>\n",
       "      <td>Manual</td>\n",
       "      <td>First</td>\n",
       "      <td>19.67 kmpl</td>\n",
       "      <td>1582 CC</td>\n",
       "      <td>126.2 bhp</td>\n",
       "      <td>5.0</td>\n",
       "      <td>NaN</td>\n",
       "      <td>12.50</td>\n",
       "    </tr>\n",
       "    <tr>\n",
       "      <th>2</th>\n",
       "      <td>2</td>\n",
       "      <td>Honda Jazz V</td>\n",
       "      <td>Chennai</td>\n",
       "      <td>2011</td>\n",
       "      <td>46000</td>\n",
       "      <td>Petrol</td>\n",
       "      <td>Manual</td>\n",
       "      <td>First</td>\n",
       "      <td>18.2 kmpl</td>\n",
       "      <td>1199 CC</td>\n",
       "      <td>88.7 bhp</td>\n",
       "      <td>5.0</td>\n",
       "      <td>8.61 Lakh</td>\n",
       "      <td>4.50</td>\n",
       "    </tr>\n",
       "    <tr>\n",
       "      <th>3</th>\n",
       "      <td>3</td>\n",
       "      <td>Maruti Ertiga VDI</td>\n",
       "      <td>Chennai</td>\n",
       "      <td>2012</td>\n",
       "      <td>87000</td>\n",
       "      <td>Diesel</td>\n",
       "      <td>Manual</td>\n",
       "      <td>First</td>\n",
       "      <td>20.77 kmpl</td>\n",
       "      <td>1248 CC</td>\n",
       "      <td>88.76 bhp</td>\n",
       "      <td>7.0</td>\n",
       "      <td>NaN</td>\n",
       "      <td>6.00</td>\n",
       "    </tr>\n",
       "    <tr>\n",
       "      <th>4</th>\n",
       "      <td>4</td>\n",
       "      <td>Audi A4 New 2.0 TDI Multitronic</td>\n",
       "      <td>Coimbatore</td>\n",
       "      <td>2013</td>\n",
       "      <td>40670</td>\n",
       "      <td>Diesel</td>\n",
       "      <td>Automatic</td>\n",
       "      <td>Second</td>\n",
       "      <td>15.2 kmpl</td>\n",
       "      <td>1968 CC</td>\n",
       "      <td>140.8 bhp</td>\n",
       "      <td>5.0</td>\n",
       "      <td>NaN</td>\n",
       "      <td>17.74</td>\n",
       "    </tr>\n",
       "  </tbody>\n",
       "</table>\n",
       "</div>"
      ],
      "text/plain": [
       "   Unnamed: 0                              Name    Location  Year  \\\n",
       "0           0            Maruti Wagon R LXI CNG      Mumbai  2010   \n",
       "1           1  Hyundai Creta 1.6 CRDi SX Option        Pune  2015   \n",
       "2           2                      Honda Jazz V     Chennai  2011   \n",
       "3           3                 Maruti Ertiga VDI     Chennai  2012   \n",
       "4           4   Audi A4 New 2.0 TDI Multitronic  Coimbatore  2013   \n",
       "\n",
       "   Kilometers_Driven Fuel_Type Transmission Owner_Type     Mileage   Engine  \\\n",
       "0              72000       CNG       Manual      First  26.6 km/kg   998 CC   \n",
       "1              41000    Diesel       Manual      First  19.67 kmpl  1582 CC   \n",
       "2              46000    Petrol       Manual      First   18.2 kmpl  1199 CC   \n",
       "3              87000    Diesel       Manual      First  20.77 kmpl  1248 CC   \n",
       "4              40670    Diesel    Automatic     Second   15.2 kmpl  1968 CC   \n",
       "\n",
       "       Power  Seats  New_Price  Price  \n",
       "0  58.16 bhp    5.0        NaN   1.75  \n",
       "1  126.2 bhp    5.0        NaN  12.50  \n",
       "2   88.7 bhp    5.0  8.61 Lakh   4.50  \n",
       "3  88.76 bhp    7.0        NaN   6.00  \n",
       "4  140.8 bhp    5.0        NaN  17.74  "
      ]
     },
     "execution_count": 3,
     "metadata": {},
     "output_type": "execute_result"
    }
   ],
   "source": [
    "data.head()"
   ]
  },
  {
   "cell_type": "code",
   "execution_count": 4,
   "id": "20da8ece",
   "metadata": {},
   "outputs": [
    {
     "data": {
      "text/plain": [
       "(6019, 14)"
      ]
     },
     "execution_count": 4,
     "metadata": {},
     "output_type": "execute_result"
    }
   ],
   "source": [
    "data.shape"
   ]
  },
  {
   "cell_type": "code",
   "execution_count": 5,
   "id": "346131c0",
   "metadata": {},
   "outputs": [
    {
     "name": "stdout",
     "output_type": "stream",
     "text": [
      "<class 'pandas.core.frame.DataFrame'>\n",
      "RangeIndex: 6019 entries, 0 to 6018\n",
      "Data columns (total 14 columns):\n",
      " #   Column             Non-Null Count  Dtype  \n",
      "---  ------             --------------  -----  \n",
      " 0   Unnamed: 0         6019 non-null   int64  \n",
      " 1   Name               6019 non-null   object \n",
      " 2   Location           6019 non-null   object \n",
      " 3   Year               6019 non-null   int64  \n",
      " 4   Kilometers_Driven  6019 non-null   int64  \n",
      " 5   Fuel_Type          6019 non-null   object \n",
      " 6   Transmission       6019 non-null   object \n",
      " 7   Owner_Type         6019 non-null   object \n",
      " 8   Mileage            6017 non-null   object \n",
      " 9   Engine             5983 non-null   object \n",
      " 10  Power              5983 non-null   object \n",
      " 11  Seats              5977 non-null   float64\n",
      " 12  New_Price          824 non-null    object \n",
      " 13  Price              6019 non-null   float64\n",
      "dtypes: float64(2), int64(3), object(9)\n",
      "memory usage: 658.5+ KB\n"
     ]
    }
   ],
   "source": [
    "data.info()"
   ]
  },
  {
   "cell_type": "code",
   "execution_count": 6,
   "id": "d52271e3",
   "metadata": {},
   "outputs": [
    {
     "data": {
      "text/html": [
       "<div>\n",
       "<style scoped>\n",
       "    .dataframe tbody tr th:only-of-type {\n",
       "        vertical-align: middle;\n",
       "    }\n",
       "\n",
       "    .dataframe tbody tr th {\n",
       "        vertical-align: top;\n",
       "    }\n",
       "\n",
       "    .dataframe thead th {\n",
       "        text-align: right;\n",
       "    }\n",
       "</style>\n",
       "<table border=\"1\" class=\"dataframe\">\n",
       "  <thead>\n",
       "    <tr style=\"text-align: right;\">\n",
       "      <th></th>\n",
       "      <th>Unnamed: 0</th>\n",
       "      <th>Year</th>\n",
       "      <th>Kilometers_Driven</th>\n",
       "      <th>Seats</th>\n",
       "      <th>Price</th>\n",
       "    </tr>\n",
       "  </thead>\n",
       "  <tbody>\n",
       "    <tr>\n",
       "      <th>count</th>\n",
       "      <td>6019.000000</td>\n",
       "      <td>6019.000000</td>\n",
       "      <td>6.019000e+03</td>\n",
       "      <td>5977.000000</td>\n",
       "      <td>6019.000000</td>\n",
       "    </tr>\n",
       "    <tr>\n",
       "      <th>mean</th>\n",
       "      <td>3009.000000</td>\n",
       "      <td>2013.358199</td>\n",
       "      <td>5.873838e+04</td>\n",
       "      <td>5.278735</td>\n",
       "      <td>9.479468</td>\n",
       "    </tr>\n",
       "    <tr>\n",
       "      <th>std</th>\n",
       "      <td>1737.679967</td>\n",
       "      <td>3.269742</td>\n",
       "      <td>9.126884e+04</td>\n",
       "      <td>0.808840</td>\n",
       "      <td>11.187917</td>\n",
       "    </tr>\n",
       "    <tr>\n",
       "      <th>min</th>\n",
       "      <td>0.000000</td>\n",
       "      <td>1998.000000</td>\n",
       "      <td>1.710000e+02</td>\n",
       "      <td>0.000000</td>\n",
       "      <td>0.440000</td>\n",
       "    </tr>\n",
       "    <tr>\n",
       "      <th>25%</th>\n",
       "      <td>1504.500000</td>\n",
       "      <td>2011.000000</td>\n",
       "      <td>3.400000e+04</td>\n",
       "      <td>5.000000</td>\n",
       "      <td>3.500000</td>\n",
       "    </tr>\n",
       "    <tr>\n",
       "      <th>50%</th>\n",
       "      <td>3009.000000</td>\n",
       "      <td>2014.000000</td>\n",
       "      <td>5.300000e+04</td>\n",
       "      <td>5.000000</td>\n",
       "      <td>5.640000</td>\n",
       "    </tr>\n",
       "    <tr>\n",
       "      <th>75%</th>\n",
       "      <td>4513.500000</td>\n",
       "      <td>2016.000000</td>\n",
       "      <td>7.300000e+04</td>\n",
       "      <td>5.000000</td>\n",
       "      <td>9.950000</td>\n",
       "    </tr>\n",
       "    <tr>\n",
       "      <th>max</th>\n",
       "      <td>6018.000000</td>\n",
       "      <td>2019.000000</td>\n",
       "      <td>6.500000e+06</td>\n",
       "      <td>10.000000</td>\n",
       "      <td>160.000000</td>\n",
       "    </tr>\n",
       "  </tbody>\n",
       "</table>\n",
       "</div>"
      ],
      "text/plain": [
       "        Unnamed: 0         Year  Kilometers_Driven        Seats        Price\n",
       "count  6019.000000  6019.000000       6.019000e+03  5977.000000  6019.000000\n",
       "mean   3009.000000  2013.358199       5.873838e+04     5.278735     9.479468\n",
       "std    1737.679967     3.269742       9.126884e+04     0.808840    11.187917\n",
       "min       0.000000  1998.000000       1.710000e+02     0.000000     0.440000\n",
       "25%    1504.500000  2011.000000       3.400000e+04     5.000000     3.500000\n",
       "50%    3009.000000  2014.000000       5.300000e+04     5.000000     5.640000\n",
       "75%    4513.500000  2016.000000       7.300000e+04     5.000000     9.950000\n",
       "max    6018.000000  2019.000000       6.500000e+06    10.000000   160.000000"
      ]
     },
     "execution_count": 6,
     "metadata": {},
     "output_type": "execute_result"
    }
   ],
   "source": [
    "data.describe()"
   ]
  },
  {
   "cell_type": "code",
   "execution_count": 7,
   "id": "45179d5d",
   "metadata": {},
   "outputs": [
    {
     "data": {
      "text/plain": [
       "False"
      ]
     },
     "execution_count": 7,
     "metadata": {},
     "output_type": "execute_result"
    }
   ],
   "source": [
    "data.duplicated().any()"
   ]
  },
  {
   "cell_type": "code",
   "execution_count": 8,
   "id": "3358d252",
   "metadata": {},
   "outputs": [
    {
     "name": "stderr",
     "output_type": "stream",
     "text": [
      "C:\\Users\\Parisha\\AppData\\Local\\Temp\\ipykernel_14988\\1211862944.py:6: DeprecationWarning: `np.object` is a deprecated alias for the builtin `object`. To silence this warning, use `object` by itself. Doing this will not modify any behavior and is safe. \n",
      "Deprecated in NumPy 1.20; for more details and guidance: https://numpy.org/devdocs/release/1.20.0-notes.html#deprecations\n",
      "  data_categorical = data.select_dtypes(include=[np.object])\n"
     ]
    }
   ],
   "source": [
    "# Handling NaN values with mean imputation for numerical data\n",
    "data_numeric = data.select_dtypes(include=[np.number])\n",
    "data_numeric = data_numeric.fillna(data_numeric.mean())\n",
    "\n",
    "# Handling NaN values with mode imputation for categorical data\n",
    "data_categorical = data.select_dtypes(include=[np.object])\n",
    "data_categorical = data_categorical.fillna(data_categorical.mode().iloc[0])\n",
    "\n",
    "# Combining the numerical and categorical data\n",
    "data = pd.concat([data_numeric, data_categorical], axis=1)"
   ]
  },
  {
   "cell_type": "code",
   "execution_count": 9,
   "id": "f8fd6d6f",
   "metadata": {},
   "outputs": [],
   "source": [
    "from sklearn import preprocessing\n",
    "label_encoder = preprocessing.LabelEncoder()\n",
    "data['Name']= label_encoder.fit_transform(data['Name'])\n",
    "data['Location']= label_encoder.fit_transform(data['Location'])\n",
    "data['Fuel_Type']= label_encoder.fit_transform(data['Fuel_Type'])\n",
    "data['Transmission']= label_encoder.fit_transform(data['Transmission'])\n",
    "data['Owner_Type']= label_encoder.fit_transform(data['Owner_Type'])\n",
    "data['Power']= label_encoder.fit_transform(data['Power'])\n",
    "data['Engine']= label_encoder.fit_transform(data['Engine'])\n",
    "data['Mileage']= label_encoder.fit_transform(data['Mileage'])\n",
    "data['New_Price']= label_encoder.fit_transform(data['New_Price'])"
   ]
  },
  {
   "cell_type": "code",
   "execution_count": 10,
   "id": "0a3cbd7f",
   "metadata": {},
   "outputs": [],
   "source": [
    "x=data.drop(columns=['Price','Unnamed: 0'],axis=1)"
   ]
  },
  {
   "cell_type": "code",
   "execution_count": 11,
   "id": "09924787",
   "metadata": {},
   "outputs": [],
   "source": [
    "y=data['Price']"
   ]
  },
  {
   "cell_type": "code",
   "execution_count": 12,
   "id": "8a85285a",
   "metadata": {},
   "outputs": [],
   "source": [
    "from sklearn.model_selection import train_test_split\n",
    "\n",
    "x_train, x_test, y_train, y_test = train_test_split(x, y, test_size = 0.2)"
   ]
  },
  {
   "cell_type": "code",
   "execution_count": 13,
   "id": "330a5511",
   "metadata": {},
   "outputs": [
    {
     "data": {
      "text/plain": [
       "(4815, 12)"
      ]
     },
     "execution_count": 13,
     "metadata": {},
     "output_type": "execute_result"
    }
   ],
   "source": [
    "x_train.shape"
   ]
  },
  {
   "cell_type": "code",
   "execution_count": 14,
   "id": "aa60f4bc",
   "metadata": {},
   "outputs": [
    {
     "data": {
      "text/plain": [
       "(1204, 12)"
      ]
     },
     "execution_count": 14,
     "metadata": {},
     "output_type": "execute_result"
    }
   ],
   "source": [
    "x_test.shape"
   ]
  },
  {
   "cell_type": "code",
   "execution_count": 15,
   "id": "fcdbe628",
   "metadata": {},
   "outputs": [],
   "source": [
    "scaler = StandardScaler()\n",
    "x_train = scaler.fit_transform(x_train)\n",
    "x_test = scaler.transform(x_test)"
   ]
  },
  {
   "cell_type": "code",
   "execution_count": 16,
   "id": "ed453748",
   "metadata": {},
   "outputs": [],
   "source": [
    "model = Sequential()\n",
    "model.add(Dense(20, activation='relu', input_shape=(12,)))\n",
    "model.add(Dense(14, activation='relu'))\n",
    "model.add(Dense(1, activation='relu'))"
   ]
  },
  {
   "cell_type": "code",
   "execution_count": 17,
   "id": "9f8f7f0c",
   "metadata": {},
   "outputs": [],
   "source": [
    "model.compile(optimizer='adam',loss = 'mean_absolute_error',metrics = ['MAE'])"
   ]
  },
  {
   "cell_type": "code",
   "execution_count": 18,
   "id": "fb0e3111",
   "metadata": {},
   "outputs": [],
   "source": [
    "early_stopping = EarlyStopping(monitor='MAE', patience=3)"
   ]
  },
  {
   "cell_type": "code",
   "execution_count": 19,
   "id": "30d70335",
   "metadata": {},
   "outputs": [
    {
     "name": "stdout",
     "output_type": "stream",
     "text": [
      "Epoch 1/80\n",
      "121/121 [==============================] - 2s 7ms/step - loss: 8.0677 - MAE: 8.0677 - val_loss: 6.9111 - val_MAE: 6.9111\n",
      "Epoch 2/80\n",
      "121/121 [==============================] - 1s 4ms/step - loss: 4.8560 - MAE: 4.8560 - val_loss: 4.4763 - val_MAE: 4.4763\n",
      "Epoch 3/80\n",
      "121/121 [==============================] - 1s 4ms/step - loss: 3.8072 - MAE: 3.8072 - val_loss: 3.8481 - val_MAE: 3.8481\n",
      "Epoch 4/80\n",
      "121/121 [==============================] - 1s 4ms/step - loss: 3.4778 - MAE: 3.4778 - val_loss: 3.6571 - val_MAE: 3.6571\n",
      "Epoch 5/80\n",
      "121/121 [==============================] - 0s 4ms/step - loss: 3.3073 - MAE: 3.3073 - val_loss: 3.5274 - val_MAE: 3.5274\n",
      "Epoch 6/80\n",
      "121/121 [==============================] - 1s 4ms/step - loss: 3.1809 - MAE: 3.1809 - val_loss: 3.4240 - val_MAE: 3.4240\n",
      "Epoch 7/80\n",
      "121/121 [==============================] - 1s 4ms/step - loss: 3.0848 - MAE: 3.0848 - val_loss: 3.3166 - val_MAE: 3.3166\n",
      "Epoch 8/80\n",
      "121/121 [==============================] - 1s 4ms/step - loss: 3.0025 - MAE: 3.0025 - val_loss: 3.2315 - val_MAE: 3.2315\n",
      "Epoch 9/80\n",
      "121/121 [==============================] - 1s 4ms/step - loss: 2.9344 - MAE: 2.9344 - val_loss: 3.1318 - val_MAE: 3.1318\n",
      "Epoch 10/80\n",
      "121/121 [==============================] - 1s 4ms/step - loss: 2.8774 - MAE: 2.8774 - val_loss: 3.0439 - val_MAE: 3.0439\n",
      "Epoch 11/80\n",
      "121/121 [==============================] - 0s 4ms/step - loss: 2.8145 - MAE: 2.8145 - val_loss: 2.9867 - val_MAE: 2.9867\n",
      "Epoch 12/80\n",
      "121/121 [==============================] - 1s 4ms/step - loss: 2.7619 - MAE: 2.7619 - val_loss: 2.9276 - val_MAE: 2.9276\n",
      "Epoch 13/80\n",
      "121/121 [==============================] - 1s 4ms/step - loss: 2.7132 - MAE: 2.7132 - val_loss: 2.8642 - val_MAE: 2.8642\n",
      "Epoch 14/80\n",
      "121/121 [==============================] - 0s 4ms/step - loss: 2.6642 - MAE: 2.6642 - val_loss: 2.7997 - val_MAE: 2.7997\n",
      "Epoch 15/80\n",
      "121/121 [==============================] - 1s 4ms/step - loss: 2.6275 - MAE: 2.6275 - val_loss: 2.7315 - val_MAE: 2.7315\n",
      "Epoch 16/80\n",
      "121/121 [==============================] - 1s 4ms/step - loss: 2.5777 - MAE: 2.5777 - val_loss: 2.7062 - val_MAE: 2.7062\n",
      "Epoch 17/80\n",
      "121/121 [==============================] - 1s 4ms/step - loss: 2.5415 - MAE: 2.5415 - val_loss: 2.6577 - val_MAE: 2.6577\n",
      "Epoch 18/80\n",
      "121/121 [==============================] - 1s 4ms/step - loss: 2.4979 - MAE: 2.4979 - val_loss: 2.5967 - val_MAE: 2.5967\n",
      "Epoch 19/80\n",
      "121/121 [==============================] - 1s 4ms/step - loss: 2.4751 - MAE: 2.4751 - val_loss: 2.5449 - val_MAE: 2.5449\n",
      "Epoch 20/80\n",
      "121/121 [==============================] - 0s 4ms/step - loss: 2.4271 - MAE: 2.4271 - val_loss: 2.5255 - val_MAE: 2.5255\n",
      "Epoch 21/80\n",
      "121/121 [==============================] - 0s 4ms/step - loss: 2.3994 - MAE: 2.3994 - val_loss: 2.4683 - val_MAE: 2.4683\n",
      "Epoch 22/80\n",
      "121/121 [==============================] - 1s 4ms/step - loss: 2.3704 - MAE: 2.3704 - val_loss: 2.4634 - val_MAE: 2.4634\n",
      "Epoch 23/80\n",
      "121/121 [==============================] - 1s 4ms/step - loss: 2.3442 - MAE: 2.3442 - val_loss: 2.4174 - val_MAE: 2.4174\n",
      "Epoch 24/80\n",
      "121/121 [==============================] - 1s 4ms/step - loss: 2.3197 - MAE: 2.3197 - val_loss: 2.3848 - val_MAE: 2.3848\n",
      "Epoch 25/80\n",
      "121/121 [==============================] - 1s 4ms/step - loss: 2.3005 - MAE: 2.3005 - val_loss: 2.4308 - val_MAE: 2.4308\n",
      "Epoch 26/80\n",
      "121/121 [==============================] - 1s 4ms/step - loss: 2.2856 - MAE: 2.2856 - val_loss: 2.3479 - val_MAE: 2.3479\n",
      "Epoch 27/80\n",
      "121/121 [==============================] - 0s 4ms/step - loss: 2.2532 - MAE: 2.2532 - val_loss: 2.3319 - val_MAE: 2.3319\n",
      "Epoch 28/80\n",
      "121/121 [==============================] - 1s 4ms/step - loss: 2.2487 - MAE: 2.2487 - val_loss: 2.3092 - val_MAE: 2.3092\n",
      "Epoch 29/80\n",
      "121/121 [==============================] - 1s 5ms/step - loss: 2.2269 - MAE: 2.2269 - val_loss: 2.3039 - val_MAE: 2.3039\n",
      "Epoch 30/80\n",
      "121/121 [==============================] - 1s 4ms/step - loss: 2.2053 - MAE: 2.2053 - val_loss: 2.3167 - val_MAE: 2.3167\n",
      "Epoch 31/80\n",
      "121/121 [==============================] - 0s 4ms/step - loss: 2.1947 - MAE: 2.1947 - val_loss: 2.2690 - val_MAE: 2.2690\n",
      "Epoch 32/80\n",
      "121/121 [==============================] - 1s 4ms/step - loss: 2.1790 - MAE: 2.1790 - val_loss: 2.2698 - val_MAE: 2.2698\n",
      "Epoch 33/80\n",
      "121/121 [==============================] - 1s 4ms/step - loss: 2.1700 - MAE: 2.1700 - val_loss: 2.3065 - val_MAE: 2.3065\n",
      "Epoch 34/80\n",
      "121/121 [==============================] - 1s 4ms/step - loss: 2.1546 - MAE: 2.1546 - val_loss: 2.2530 - val_MAE: 2.2530\n",
      "Epoch 35/80\n",
      "121/121 [==============================] - 0s 4ms/step - loss: 2.1472 - MAE: 2.1472 - val_loss: 2.2371 - val_MAE: 2.2371\n",
      "Epoch 36/80\n",
      "121/121 [==============================] - 1s 4ms/step - loss: 2.1323 - MAE: 2.1323 - val_loss: 2.2494 - val_MAE: 2.2494\n",
      "Epoch 37/80\n",
      "121/121 [==============================] - 1s 4ms/step - loss: 2.1226 - MAE: 2.1226 - val_loss: 2.2504 - val_MAE: 2.2504\n",
      "Epoch 38/80\n",
      "121/121 [==============================] - 1s 4ms/step - loss: 2.1110 - MAE: 2.1110 - val_loss: 2.2233 - val_MAE: 2.2233\n",
      "Epoch 39/80\n",
      "121/121 [==============================] - 1s 4ms/step - loss: 2.1056 - MAE: 2.1056 - val_loss: 2.2166 - val_MAE: 2.2166\n",
      "Epoch 40/80\n",
      "121/121 [==============================] - 1s 4ms/step - loss: 2.0995 - MAE: 2.0995 - val_loss: 2.2057 - val_MAE: 2.2057\n",
      "Epoch 41/80\n",
      "121/121 [==============================] - 1s 4ms/step - loss: 2.0926 - MAE: 2.0926 - val_loss: 2.1883 - val_MAE: 2.1883\n",
      "Epoch 42/80\n",
      "121/121 [==============================] - 0s 4ms/step - loss: 2.0819 - MAE: 2.0819 - val_loss: 2.1909 - val_MAE: 2.1909\n",
      "Epoch 43/80\n",
      "121/121 [==============================] - 0s 4ms/step - loss: 2.0735 - MAE: 2.0735 - val_loss: 2.1988 - val_MAE: 2.1988\n",
      "Epoch 44/80\n",
      "121/121 [==============================] - 1s 5ms/step - loss: 2.0744 - MAE: 2.0744 - val_loss: 2.1859 - val_MAE: 2.1859\n",
      "Epoch 45/80\n",
      "121/121 [==============================] - 1s 4ms/step - loss: 2.0613 - MAE: 2.0613 - val_loss: 2.1643 - val_MAE: 2.1643\n",
      "Epoch 46/80\n",
      "121/121 [==============================] - 1s 4ms/step - loss: 2.0482 - MAE: 2.0482 - val_loss: 2.1710 - val_MAE: 2.1710\n",
      "Epoch 47/80\n",
      "121/121 [==============================] - 1s 4ms/step - loss: 2.0444 - MAE: 2.0444 - val_loss: 2.1511 - val_MAE: 2.1511\n",
      "Epoch 48/80\n",
      "121/121 [==============================] - 1s 5ms/step - loss: 2.0364 - MAE: 2.0364 - val_loss: 2.1896 - val_MAE: 2.1896\n",
      "Epoch 49/80\n",
      "121/121 [==============================] - 1s 4ms/step - loss: 2.0359 - MAE: 2.0359 - val_loss: 2.1454 - val_MAE: 2.1454\n",
      "Epoch 50/80\n",
      "121/121 [==============================] - 0s 4ms/step - loss: 2.0238 - MAE: 2.0238 - val_loss: 2.1325 - val_MAE: 2.1325\n",
      "Epoch 51/80\n",
      "121/121 [==============================] - 1s 4ms/step - loss: 2.0189 - MAE: 2.0189 - val_loss: 2.1236 - val_MAE: 2.1236\n",
      "Epoch 52/80\n",
      "121/121 [==============================] - 1s 4ms/step - loss: 2.0109 - MAE: 2.0109 - val_loss: 2.1367 - val_MAE: 2.1367\n",
      "Epoch 53/80\n",
      "121/121 [==============================] - 1s 4ms/step - loss: 2.0117 - MAE: 2.0117 - val_loss: 2.1181 - val_MAE: 2.1181\n",
      "Epoch 54/80\n",
      "121/121 [==============================] - 1s 4ms/step - loss: 2.0100 - MAE: 2.0100 - val_loss: 2.1343 - val_MAE: 2.1343\n",
      "Epoch 55/80\n",
      "121/121 [==============================] - 1s 4ms/step - loss: 1.9973 - MAE: 1.9973 - val_loss: 2.1160 - val_MAE: 2.1160\n",
      "Epoch 56/80\n",
      "121/121 [==============================] - 1s 4ms/step - loss: 1.9994 - MAE: 1.9994 - val_loss: 2.1053 - val_MAE: 2.1053\n",
      "Epoch 57/80\n",
      "121/121 [==============================] - 1s 4ms/step - loss: 1.9851 - MAE: 1.9851 - val_loss: 2.1039 - val_MAE: 2.1039\n",
      "Epoch 58/80\n",
      "121/121 [==============================] - 1s 4ms/step - loss: 1.9880 - MAE: 1.9880 - val_loss: 2.1310 - val_MAE: 2.1310\n",
      "Epoch 59/80\n",
      "121/121 [==============================] - 1s 4ms/step - loss: 1.9849 - MAE: 1.9849 - val_loss: 2.0884 - val_MAE: 2.0884\n",
      "Epoch 60/80\n",
      "121/121 [==============================] - 1s 4ms/step - loss: 1.9785 - MAE: 1.9785 - val_loss: 2.0826 - val_MAE: 2.0826\n",
      "Epoch 61/80\n",
      "121/121 [==============================] - 1s 4ms/step - loss: 1.9809 - MAE: 1.9809 - val_loss: 2.0854 - val_MAE: 2.0854\n",
      "Epoch 62/80\n"
     ]
    },
    {
     "name": "stdout",
     "output_type": "stream",
     "text": [
      "121/121 [==============================] - 1s 4ms/step - loss: 1.9808 - MAE: 1.9808 - val_loss: 2.1042 - val_MAE: 2.1042\n",
      "Epoch 63/80\n",
      "121/121 [==============================] - 0s 4ms/step - loss: 1.9705 - MAE: 1.9705 - val_loss: 2.0691 - val_MAE: 2.0691\n",
      "Epoch 64/80\n",
      "121/121 [==============================] - 1s 4ms/step - loss: 1.9710 - MAE: 1.9710 - val_loss: 2.0758 - val_MAE: 2.0758\n",
      "Epoch 65/80\n",
      "121/121 [==============================] - 1s 4ms/step - loss: 1.9667 - MAE: 1.9667 - val_loss: 2.0712 - val_MAE: 2.0712\n",
      "Epoch 66/80\n",
      "121/121 [==============================] - 1s 4ms/step - loss: 1.9645 - MAE: 1.9645 - val_loss: 2.0602 - val_MAE: 2.0602\n",
      "Epoch 67/80\n",
      "121/121 [==============================] - 0s 4ms/step - loss: 1.9577 - MAE: 1.9577 - val_loss: 2.0603 - val_MAE: 2.0603\n",
      "Epoch 68/80\n",
      "121/121 [==============================] - 1s 4ms/step - loss: 1.9537 - MAE: 1.9537 - val_loss: 2.0563 - val_MAE: 2.0563\n",
      "Epoch 69/80\n",
      "121/121 [==============================] - 0s 4ms/step - loss: 1.9534 - MAE: 1.9534 - val_loss: 2.0796 - val_MAE: 2.0796\n",
      "Epoch 70/80\n",
      "121/121 [==============================] - 1s 4ms/step - loss: 1.9505 - MAE: 1.9505 - val_loss: 2.0463 - val_MAE: 2.0463\n",
      "Epoch 71/80\n",
      "121/121 [==============================] - 1s 5ms/step - loss: 1.9454 - MAE: 1.9454 - val_loss: 2.0747 - val_MAE: 2.0747\n",
      "Epoch 72/80\n",
      "121/121 [==============================] - 1s 5ms/step - loss: 1.9414 - MAE: 1.9414 - val_loss: 2.0490 - val_MAE: 2.0490\n",
      "Epoch 73/80\n",
      "121/121 [==============================] - 1s 4ms/step - loss: 1.9415 - MAE: 1.9415 - val_loss: 2.0398 - val_MAE: 2.0398\n",
      "Epoch 74/80\n",
      "121/121 [==============================] - 0s 4ms/step - loss: 1.9314 - MAE: 1.9314 - val_loss: 2.0473 - val_MAE: 2.0473\n",
      "Epoch 75/80\n",
      "121/121 [==============================] - 1s 4ms/step - loss: 1.9407 - MAE: 1.9407 - val_loss: 2.0427 - val_MAE: 2.0427\n",
      "Epoch 76/80\n",
      "121/121 [==============================] - 1s 4ms/step - loss: 1.9256 - MAE: 1.9256 - val_loss: 2.0418 - val_MAE: 2.0418\n",
      "Epoch 77/80\n",
      "121/121 [==============================] - 1s 4ms/step - loss: 1.9341 - MAE: 1.9341 - val_loss: 2.0507 - val_MAE: 2.0507\n",
      "Epoch 78/80\n",
      "121/121 [==============================] - 1s 4ms/step - loss: 1.9383 - MAE: 1.9383 - val_loss: 2.0634 - val_MAE: 2.0634\n",
      "Epoch 79/80\n",
      "121/121 [==============================] - 1s 4ms/step - loss: 1.9297 - MAE: 1.9297 - val_loss: 2.0286 - val_MAE: 2.0286\n"
     ]
    },
    {
     "data": {
      "text/plain": [
       "<keras.callbacks.History at 0x247fb066ee0>"
      ]
     },
     "execution_count": 19,
     "metadata": {},
     "output_type": "execute_result"
    }
   ],
   "source": [
    "model.fit(x_train, y_train,epochs=80, validation_split=0.2, callbacks=[early_stopping])"
   ]
  },
  {
   "cell_type": "code",
   "execution_count": 20,
   "id": "088228dc",
   "metadata": {},
   "outputs": [
    {
     "name": "stdout",
     "output_type": "stream",
     "text": [
      "38/38 [==============================] - 0s 4ms/step - loss: 1.9688 - MAE: 1.9688\n",
      "Test Loss: 1.9688459634780884, Test MAE: 1.9688459634780884\n"
     ]
    }
   ],
   "source": [
    "test_loss, test_mae = model.evaluate(x_test, y_test)\n",
    "print(f\"Test Loss: {test_loss}, Test MAE: {test_mae}\")"
   ]
  },
  {
   "cell_type": "code",
   "execution_count": 21,
   "id": "067a66f4",
   "metadata": {},
   "outputs": [
    {
     "name": "stdout",
     "output_type": "stream",
     "text": [
      "38/38 [==============================] - 0s 3ms/step\n"
     ]
    }
   ],
   "source": [
    "y_pred = model.predict(x_test)\n",
    "y_pred = np.argmax(y_pred, axis=1)"
   ]
  },
  {
   "cell_type": "code",
   "execution_count": null,
   "id": "78948283",
   "metadata": {},
   "outputs": [],
   "source": []
  }
 ],
 "metadata": {
  "kernelspec": {
   "display_name": "Python 3 (ipykernel)",
   "language": "python",
   "name": "python3"
  },
  "language_info": {
   "codemirror_mode": {
    "name": "ipython",
    "version": 3
   },
   "file_extension": ".py",
   "mimetype": "text/x-python",
   "name": "python",
   "nbconvert_exporter": "python",
   "pygments_lexer": "ipython3",
   "version": "3.9.12"
  }
 },
 "nbformat": 4,
 "nbformat_minor": 5
}
